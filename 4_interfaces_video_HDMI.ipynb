{
 "cells": [
  {
   "cell_type": "markdown",
   "metadata": {},
   "source": [
    "# Control de la interfaces HDMI\n",
    "\n",
    "Este cuaderno de Jupyter presenta un tutorial con la información necesaria para interactuar con las bibliotecas de vídeo del entorno de productividad PYNQ-Z2. Para esta práctica se requiere el siguiente hardware:\n",
    "\n",
    "* 2 cables HDMI\n",
    "* 1 monitor con entrada HDMI\n",
    "\n",
    "En primer lugar, se hace el llamado a las bibliotecas del entorno de productividad PYNQ relacionadas con el control de video. A continuación, se declaran las variables para el control de los puertos HDMI de entrada y de salida."
   ]
  },
  {
   "cell_type": "code",
   "execution_count": 1,
   "metadata": {},
   "outputs": [
    {
     "data": {
      "application/javascript": [
       "\n",
       "require(['notebook/js/codecell'], function(codecell) {\n",
       "  codecell.CodeCell.options_default.highlight_modes[\n",
       "      'magic_text/x-csrc'] = {'reg':[/^%%microblaze/]};\n",
       "  Jupyter.notebook.events.one('kernel_ready.Kernel', function(){\n",
       "      Jupyter.notebook.get_cells().map(function(cell){\n",
       "          if (cell.cell_type == 'code'){ cell.auto_highlight(); } }) ;\n",
       "  });\n",
       "});\n"
      ]
     },
     "metadata": {},
     "output_type": "display_data"
    }
   ],
   "source": [
    "from pynq.overlays.base import BaseOverlay\n",
    "from pynq.lib.video import *\n",
    "\n",
    "base = BaseOverlay(\"base.bit\")\n",
    "hdmi_in  = base.video.hdmi_in\n",
    "hdmi_out = base.video.hdmi_out"
   ]
  },
  {
   "cell_type": "markdown",
   "metadata": {},
   "source": [
    "## Configuración del hardware\n",
    "\n",
    "El objetivo de la práctica consiste en que la placa capture una imagen por el puerto HDMI de entrada y mostrar versiones de dicha imagen en el monitor usando el puerto HDMI de salida. La configuración del hardware se realiza de la siguiente forma:\n",
    "\n",
    "* Conecte un cable desde una salida HDMI del ordenador hasta el puerto de entrada HDMI de la placa (HDMI IN). \n",
    "* Conecte el otro cable desde el puerto de salida HDMI de la placa (HDMI OUT) al monitor. \n",
    "\n",
    "En principio, se usa el formato de vídeo por defecto que consta de 24 bits por píxel BGR (*blue, green, red *) para poder usar la biblioteca OpenCV. Al ejecutarse la celda de código mostrada a continuación, se debe encender el monitor y mostrar la pantalla en negro."
   ]
  },
  {
   "cell_type": "code",
   "execution_count": 2,
   "metadata": {},
   "outputs": [
    {
     "data": {
      "text/plain": [
       "<contextlib._GeneratorContextManager at 0xaed916f0>"
      ]
     },
     "execution_count": 2,
     "metadata": {},
     "output_type": "execute_result"
    }
   ],
   "source": [
    "hdmi_in.configure()\n",
    "hdmi_out.configure(hdmi_in.mode)\n",
    "\n",
    "hdmi_in.start()\n",
    "hdmi_out.start()"
   ]
  },
  {
   "cell_type": "markdown",
   "metadata": {},
   "source": [
    "La forma más sencilla de desplegar la imagen que recibe la placa por el puerto HDMI IN en el monitor consiste en usar el método *tie* como se muestra a continuación."
   ]
  },
  {
   "cell_type": "code",
   "execution_count": 3,
   "metadata": {},
   "outputs": [],
   "source": [
    "hdmi_in.tie(hdmi_out)"
   ]
  },
  {
   "cell_type": "markdown",
   "metadata": {},
   "source": [
    "Esta imagen se mostrará hasta que se envíe otra imagen o hasta que los puertos HDMI se cierren. Este método provee una forma rápida de pasar datos de vídeo a través de la placa a la pantalla de un monitor. Sin embargo, el método *tie* no permite modificar los frames. Con el objeto de mirar con más detalle la gestión de la librería de vídeo, usaremos los métodos `readframe` y `writeframe` en un lazo de repetición."
   ]
  },
  {
   "cell_type": "code",
   "execution_count": 4,
   "metadata": {},
   "outputs": [
    {
     "name": "stdout",
     "output_type": "stream",
     "text": [
      "Cuadros por segundo:  34.0\n"
     ]
    }
   ],
   "source": [
    "import time\n",
    "\n",
    "numcuadros = 600\n",
    "inicio = time.time()\n",
    "\n",
    "for _ in range(numcuadros):\n",
    "    # asigna la variable f la imagen capturada en HDMI IN\n",
    "    f = hdmi_in.readframe()\n",
    "    # envía la imagen al monitor mediante HDMI OUT\n",
    "    hdmi_out.writeframe(f)\n",
    "fin = time.time()\n",
    "print(\"Cuadros por segundo:  \" + str(numcuadros // (fin - inicio)))"
   ]
  },
  {
   "cell_type": "markdown",
   "metadata": {},
   "source": [
    "Ahora se plicará un filtro de suavizado a los cuadros usando una biblioteca de OpenCV codificada en Python. En particular, el cuadro capturado se convierte en una imagen de escala de grises, y luego se aplica un filtro de suavizado a la versión de escala de grises de la imagen. La versión suavizada se muestra en pantalla. "
   ]
  },
  {
   "cell_type": "code",
   "execution_count": 5,
   "metadata": {},
   "outputs": [
    {
     "name": "stdout",
     "output_type": "stream",
     "text": [
      "Cuadros por segundo:  5\n"
     ]
    }
   ],
   "source": [
    "import cv2\n",
    "import numpy as np\n",
    "\n",
    "numcuadros = 10\n",
    "grayscale = np.ndarray(shape=(hdmi_in.mode.height, hdmi_in.mode.width),\n",
    "                       dtype=np.uint8)\n",
    "result = np.ndarray(shape=(hdmi_in.mode.height, hdmi_in.mode.width),\n",
    "                    dtype=np.uint8)\n",
    "inicio = time.time()\n",
    "\n",
    "for _ in range(numcuadros):\n",
    "    # Convierte a grayscale\n",
    "    inframe = hdmi_in.readframe()\n",
    "    cv2.cvtColor(inframe,cv2.COLOR_BGR2GRAY,dst=grayscale)\n",
    "    inframe.freebuffer()\n",
    "    # Filtrado de imagen\n",
    "    cv2.blur(grayscale, (5,5), dst=result)\n",
    "\n",
    "    outframe = hdmi_out.newframe()\n",
    "    # Convierte a BGR para poder mostrar en pantalla\n",
    "    cv2.cvtColor(result, cv2.COLOR_GRAY2BGR,dst=outframe)\n",
    "    hdmi_out.writeframe(outframe)    \n",
    "fin = time.time()\n",
    "print(\"Cuadros por segundo:  \" + str(int(numcuadros / (fin - inicio))))"
   ]
  },
  {
   "cell_type": "markdown",
   "metadata": {},
   "source": [
    "## Cierre de los puertos HDMI\n",
    "\n",
    "Los puertos HDMI deben cerrarse una vez finalizada la tarea que deben realizar. Para cerrar los puertos, use el código siguiente:"
   ]
  },
  {
   "cell_type": "code",
   "execution_count": 6,
   "metadata": {},
   "outputs": [],
   "source": [
    "hdmi_out.close()\n",
    "hdmi_in.close()"
   ]
  },
  {
   "cell_type": "markdown",
   "metadata": {},
   "source": [
    "## Cuadros en la memoria cache de la CPU\n",
    "\n",
    "Por defecto, la propiedad de `cacheable_frames` de los puertos HDMI tienen asignado el valor de `True` que consiste en que la memoria cache del CPU estará disponible para acelerar las operaciones de software a expensas de tener que borrar cuadros de antes de entregarlos al sistema de vídeo. Al cambiar esta propiedad al valor `False`, se otorga prioridad en el uso de la memoria cache del CPU a la transmisión de cuadros de vídeo, penalizando el rendimiendo de las bibliotecas de software con un desempeño más lento o en algunos casos impidiendo su operación."
   ]
  },
  {
   "cell_type": "code",
   "execution_count": 7,
   "metadata": {},
   "outputs": [
    {
     "data": {
      "text/plain": [
       "<contextlib._GeneratorContextManager at 0xabe64150>"
      ]
     },
     "execution_count": 7,
     "metadata": {},
     "output_type": "execute_result"
    }
   ],
   "source": [
    "base.download()\n",
    "\n",
    "hdmi_in.configure()\n",
    "hdmi_out.configure(hdmi_in.mode)\n",
    "hdmi_out.cacheable_frames = False\n",
    "hdmi_in.cacheable_frames = False\n",
    "hdmi_out.start()\n",
    "hdmi_in.start()"
   ]
  },
  {
   "cell_type": "markdown",
   "metadata": {},
   "source": [
    "Ejecute la siguiente celda de código que es el usado en celdas previas para mostrar imágenes en el monitor y compare su rendimiento."
   ]
  },
  {
   "cell_type": "code",
   "execution_count": 8,
   "metadata": {},
   "outputs": [
    {
     "name": "stdout",
     "output_type": "stream",
     "text": [
      "Cuadros por segundo:  59.0\n"
     ]
    }
   ],
   "source": [
    "numcuadros = 600\n",
    "inicio = time.time()\n",
    "\n",
    "for _ in range(numcuadros):\n",
    "    # asigna la variable f la imagen capturada en HDMI IN\n",
    "    f = hdmi_in.readframe()\n",
    "    # envía la imagen al monitor mediante HDMI OUT\n",
    "    hdmi_out.writeframe(f)\n",
    "fin = time.time()\n",
    "print(\"Cuadros por segundo:  \" + str(numcuadros // (fin - inicio)))"
   ]
  },
  {
   "cell_type": "markdown",
   "metadata": {},
   "source": [
    "Ahora veamos cómo afecta esta propiedad al rendimiento de la biblioteca OpenCV en el suavizado de los cuadros."
   ]
  },
  {
   "cell_type": "code",
   "execution_count": 9,
   "metadata": {},
   "outputs": [
    {
     "name": "stdout",
     "output_type": "stream",
     "text": [
      "Cuadros por segundo:  1\n"
     ]
    }
   ],
   "source": [
    "numcuadros = 10\n",
    "grayscale = np.ndarray(shape=(hdmi_in.mode.height, hdmi_in.mode.width),\n",
    "                       dtype=np.uint8)\n",
    "result = np.ndarray(shape=(hdmi_in.mode.height, hdmi_in.mode.width),\n",
    "                    dtype=np.uint8)\n",
    "inicio = time.time()\n",
    "\n",
    "for _ in range(numcuadros):\n",
    "    # Convierte a grayscale\n",
    "    inframe = hdmi_in.readframe()\n",
    "    cv2.cvtColor(inframe,cv2.COLOR_BGR2GRAY,dst=grayscale)\n",
    "    inframe.freebuffer()\n",
    "    # Filtrado de imagen\n",
    "    cv2.blur(grayscale, (5,5), dst=result)\n",
    "\n",
    "    outframe = hdmi_out.newframe()\n",
    "    # Convierte a BGR para poder mostrar en pantalla\n",
    "    cv2.cvtColor(result, cv2.COLOR_GRAY2BGR,dst=outframe)\n",
    "    hdmi_out.writeframe(outframe)    \n",
    "fin = time.time()\n",
    "print(\"Cuadros por segundo:  \" + str(int(numcuadros / (fin - inicio))))"
   ]
  },
  {
   "cell_type": "code",
   "execution_count": 10,
   "metadata": {},
   "outputs": [],
   "source": [
    "hdmi_out.close()\n",
    "hdmi_in.close()"
   ]
  },
  {
   "cell_type": "markdown",
   "metadata": {},
   "source": [
    "## Imágenes en escalas de grises\n",
    "\n",
    "El uso del formato en escala de grises en el entorno PYNQ puede mejorar el rendimiento de las aplicaciones diseñadas debido a que la conversión de color se realiza en hardware. Además, se puede transmitir/recibir el valor de un píxel en formato de escala de grises al/desde el CPU. En la celda de código mostrada a continuación, en principio, se reconfiguran los puertos HDMI para que usen el formato de escala de grises. Luego, se asigna el valor por defecto `True` a la propiedad `cacheable_frames` de los puertos HDMI de entrada y salida. En otras palabras, se le otorga prioridad a las operaciones de sofware a expensas del rendimiento del sistema de vídeo. Finalmente, para verificar su correcto funcionamiento, se usa el método `tie` para mostrar en el monitor la imagen que captura la placa en formato de escala de grises. "
   ]
  },
  {
   "cell_type": "code",
   "execution_count": 11,
   "metadata": {},
   "outputs": [],
   "source": [
    "base.download()\n",
    "\n",
    "hdmi_in.configure(PIXEL_GRAY)\n",
    "hdmi_out.configure(hdmi_in.mode)\n",
    "hdmi_in.cacheable_frames = True\n",
    "hdmi_out.cacheable_frames = True\n",
    "hdmi_in.start()\n",
    "hdmi_out.start()\n",
    "\n",
    "hdmi_in.tie(hdmi_out)"
   ]
  },
  {
   "cell_type": "markdown",
   "metadata": {},
   "source": [
    "Ejecute la celda de código siguiente y compare su rendimiento con el código ejecutado usando el formato de color."
   ]
  },
  {
   "cell_type": "code",
   "execution_count": 12,
   "metadata": {},
   "outputs": [
    {
     "name": "stdout",
     "output_type": "stream",
     "text": [
      "Cuadros por segundo:  12\n"
     ]
    }
   ],
   "source": [
    "numcuadros = 30\n",
    "inicio = time.time()\n",
    "\n",
    "for _ in range(numcuadros):\n",
    "    # Captura directamente es escala de grises\n",
    "    inframe = hdmi_in.readframe()\n",
    "    outframe = hdmi_out.newframe()\n",
    "    cv2.blur(inframe, (5,5), dst=outframe)\n",
    "    inframe.freebuffer()\n",
    "    hdmi_out.writeframe(outframe)\n",
    "\n",
    "fin = time.time()\n",
    "print(\"Cuadros por segundo:  \" + str(int(numcuadros / (fin - inicio))))"
   ]
  },
  {
   "cell_type": "code",
   "execution_count": 13,
   "metadata": {},
   "outputs": [],
   "source": [
    "hdmi_out.close()\n",
    "hdmi_in.close()"
   ]
  },
  {
   "cell_type": "markdown",
   "metadata": {},
   "source": [
    "## Next Steps\n",
    "\n",
    "This notebook has only provided an overview of base overlay pipeline. One of the reasons for the changes was to make it easier to add hardware accelerated functions by supporting a wider range of pixel formats without software conversion and separating out the HDMI front end from the video DMA. Explore the code in pynq/lib/video.py for more details."
   ]
  }
 ],
 "metadata": {
  "kernelspec": {
   "display_name": "Python 3",
   "language": "python",
   "name": "python3"
  },
  "language_info": {
   "codemirror_mode": {
    "name": "ipython",
    "version": 3
   },
   "file_extension": ".py",
   "mimetype": "text/x-python",
   "name": "python",
   "nbconvert_exporter": "python",
   "pygments_lexer": "ipython3",
   "version": "3.6.5"
  }
 },
 "nbformat": 4,
 "nbformat_minor": 2
}
