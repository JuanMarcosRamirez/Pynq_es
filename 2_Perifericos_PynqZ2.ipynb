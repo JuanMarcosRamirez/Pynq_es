{
 "cells": [
  {
   "cell_type": "markdown",
   "metadata": {},
   "source": [
    "# Control de periféricos del kit de desarrollo Pynq-Z2\n",
    "\n",
    "El kit de desarrollo Pynq-Z2 tiene cuatro LEDs verdes (LD0-LD3), dos LEDs multicolor (LD4-LD5), dos interruptores deslizantes (SW0-SW1) y cuatro botones (BTN0-BTN3) que están conectados a la lógica programable del sistema en chip (SOC, *system on a chip*). Estos periféricos pueden controlarse directamente desde Python. Veamos unos ejemplos. \n",
    "\n",
    "## Control de LEDs\n",
    "\n",
    "En principio, veremos ejemplos sencillos para el control del encendido de los LEDs. Observe la sintáxis de Python para importar las bibliotecas requeridas para la ejecución de las celdas de código. Las bibliotecas que se usarán para la programación del la placa Pynq se llaman **overlays**. Específicamente, un *overlay* es una clase que permite la implantación de diseños en la lógica programable del SOC. Esta clase puede declararse como cualquier otra biblioteca de Python. "
   ]
  },
  {
   "cell_type": "code",
   "execution_count": 2,
   "metadata": {},
   "outputs": [],
   "source": [
    "# Importar bibliotecas de Python\n",
    "from pynq.overlays.base import BaseOverlay\n",
    "base = BaseOverlay(\"base.bit\")\n",
    "from pynq.lib import LED, Switch, Button\n",
    "\n",
    "# Declarar variable\n",
    "led_0 = base.leds[0]"
   ]
  },
  {
   "cell_type": "markdown",
   "metadata": {},
   "source": [
    "Una vez llamadas las bibliotecas de los periféricos, los LEDs controlables de la placa se apagan. Observe que hay otros LEDs y botones en el kit de desarrollo dedicados para otras funciones. A continuación, veremos cómo encender el LD0 ejecutando una celda de código de un cuaderno Jupyter. "
   ]
  },
  {
   "cell_type": "code",
   "execution_count": 3,
   "metadata": {},
   "outputs": [],
   "source": [
    "led_0.on()"
   ]
  },
  {
   "cell_type": "markdown",
   "metadata": {},
   "source": [
    "Verifique que LD0 está encendido. Ahora apaguemos de nuevo LD0 con otra línea de instrucción. "
   ]
  },
  {
   "cell_type": "code",
   "execution_count": 4,
   "metadata": {},
   "outputs": [],
   "source": [
    "led_0.off()"
   ]
  },
  {
   "cell_type": "markdown",
   "metadata": {},
   "source": [
    "Ahora se controlará el titilar de uno de los leds por un tiempo específico. Específicamente, el LD1 cambiará de estado 30 veces, donde cada estado durará 0,2 segundos (200 ms). La biblioteca **time** contienen métodos básicos para la gestión del tiempo. Además, observe la sintáxis en Python para la definición de una estructura de repetición **for**. Es importante señalar que el método *toggle* cambia el estado de los leds, en otras palabras, si el led estaba encendido cambia a apagado y viceversa."
   ]
  },
  {
   "cell_type": "code",
   "execution_count": 5,
   "metadata": {},
   "outputs": [],
   "source": [
    "# Biblioteca para el control del tiempo de encendido-apagado del led\n",
    "import time \n",
    "\n",
    "led_1 = base.leds[1] # se asigna la variable led_1 para controlar el estado de LD1\n",
    "\n",
    "for i in range(30):\n",
    "    led_1.toggle() # permite el cambio de estado del led\n",
    "    time.sleep(.2) # se mantendrá encendido-apagado por 0,2 segundos ó 200 ms"
   ]
  },
  {
   "cell_type": "markdown",
   "metadata": {},
   "source": [
    "## Control de todos los leds, interruptores y botones\n",
    "\n",
    "\n",
    "El código mostrado a continuación permite crear tres listas separadas para la identificación de los leds, interruptores y botones."
   ]
  },
  {
   "cell_type": "code",
   "execution_count": 6,
   "metadata": {},
   "outputs": [],
   "source": [
    "# Set the number of Switches\n",
    "MAX_LED =4\n",
    "MAX_SWITCH = 2\n",
    "MAX_BUTTON = 4\n",
    "\n",
    "leds = [base.leds[index] for index in range(MAX_LED)]\n",
    "switches = [base.switches[index] for index in range(MAX_SWITCH)] \n",
    "buttons = [base.buttons[index] for index in range(MAX_BUTTON)] \n",
    "\n",
    "# Crea listas para cada grupo de periféricos\n",
    "for i in range(MAX_LED):\n",
    "    leds[i] = base.leds[i]              \n",
    "for i in range(MAX_SWITCH):\n",
    "    switches[i] = base.switches[i]      \n",
    "for i in range(MAX_BUTTON):\n",
    "    buttons[i] = base.buttons[i] "
   ]
  },
  {
   "cell_type": "markdown",
   "metadata": {},
   "source": [
    "A continuación mostramos un código que enciende un led dependiendo de la configuración de los interruptores (*switches*). En principio, ejecuta un lazo para apagar todos los leds. Luego se lee cada interruptor y se enciende los leds correspondientes. Es importante tener en cuenta que si se cambia las posiciones de los interruptores luego de ejecutar la celda de código del cuaderno Jupyter, el estado de los leds no cambiarán. Por esa razón se recomienda correr este código múltiples veces, cambiando la posición de los switches antes de ejecutar la celda de código. "
   ]
  },
  {
   "cell_type": "code",
   "execution_count": 7,
   "metadata": {},
   "outputs": [],
   "source": [
    "# Los leds inician en estado apagado\n",
    "for i in range(MAX_LED):\n",
    "    leds[i].off()\n",
    "\n",
    "# Si un interruptor está en ON, se enciende el led correspondiente\n",
    "for i in range(MAX_LED):                  \n",
    "    if switches[i%2].read():                                    \n",
    "        leds[i].on()\n",
    "    else:\n",
    "        leds[i].off()"
   ]
  },
  {
   "cell_type": "markdown",
   "metadata": {},
   "source": [
    "A continuación mostramos un código similar que enciende un led dependiendo de la configuración de los botones."
   ]
  },
  {
   "cell_type": "code",
   "execution_count": 8,
   "metadata": {},
   "outputs": [],
   "source": [
    "# Si un boton está en ON, se enciende el led correspondiente\n",
    "for i in range(MAX_LED):\n",
    "    if buttons[i].read():\n",
    "        leds[i].toggle()"
   ]
  },
  {
   "cell_type": "markdown",
   "metadata": {},
   "source": [
    "---\n",
    "\n",
    "## Ejemplos adicionales\n",
    "\n",
    "1. Encender/apagar un led cuando un oprima un botón.\n",
    "2. Titilar los leds por 10 segundos cuando se oprima otro botón."
   ]
  },
  {
   "cell_type": "markdown",
   "metadata": {},
   "source": [
    "### Encender/apagar un led cuando se un oprima un botón"
   ]
  },
  {
   "cell_type": "code",
   "execution_count": 9,
   "metadata": {},
   "outputs": [],
   "source": [
    "# Encender/apagar un led cuando un oprima un botón.\n",
    "\n",
    "# Los leds inician en estado apagado\n",
    "for i in range(MAX_LED):\n",
    "    leds[i].off()\n",
    "\n",
    "# LD3 se enciende/apaga cuando se oprime BTN3\n",
    "if buttons[3].read():                                    \n",
    "    leds[3].toggle()"
   ]
  },
  {
   "cell_type": "markdown",
   "metadata": {},
   "source": [
    "### Titilar los leds por 10 segundos cuando se oprima otro botón."
   ]
  },
  {
   "cell_type": "code",
   "execution_count": 10,
   "metadata": {},
   "outputs": [],
   "source": [
    "# Titilar los leds por 10 segundos cuando se oprima otro botón.\n",
    "\n",
    "if buttons[2].read():\n",
    "    for i in range(10):\n",
    "        for j in range(MAX_LED):\n",
    "            leds[j].toggle()\n",
    "        time.sleep(1.00)"
   ]
  }
 ],
 "metadata": {
  "celltoolbar": "Raw Cell Format",
  "kernelspec": {
   "display_name": "Python 3",
   "language": "python",
   "name": "python3"
  },
  "language_info": {
   "codemirror_mode": {
    "name": "ipython",
    "version": 3
   },
   "file_extension": ".py",
   "mimetype": "text/x-python",
   "name": "python",
   "nbconvert_exporter": "python",
   "pygments_lexer": "ipython3",
   "version": "3.6.5"
  }
 },
 "nbformat": 4,
 "nbformat_minor": 1
}
