{
 "cells": [
  {
   "cell_type": "markdown",
   "metadata": {},
   "source": [
    "# Puertos de entrada/salida del sistema de procesamiento\n",
    "\n",
    "La tarjeta de desarrollo PYNQ-Z2 tiene un sistema en chip (SoC, *system on a chip*) programable Zynq 7000 que consta de un sistema de procesamiento (PS, *processing system*) y un bloque de lógica programable (PL, *programmable logic*). El sistema de procesamiento consiste en un dual-core ARM Cortex-A9 con periféricos dedicados. El uso de los periféricos puede ampliarse a partir de módulos de propiedad intelectual (IP, *intellectual property*) previamente diseñados para realizar tareas de controladores. Estos módulos pueden configurarse en la lógica programable del chip. Los archivos para la configación de los módulos IP se generan con la herramienta Vivado de Xilinx. En estos tutoriales usaremos archivos de configuración previamente desarrollados.\n",
    "\n",
    "## Puertos GPIO del sistema de procesamiento\n",
    "\n",
    "Los puertos GPIO del sistema de procesamiento son usados para realizar tareas de control sencillas o para leer señales de datos. Estos puertos pueden conectarse a un módulo IP configurado en la lógica programable o directamente a un periférico de salida de la misma lógica programable. En general, los puertos GPIO no requieren un controlador, de modo que se configuran conexiones sencillas (cables) desde el sistema de procesamiento a los periféricos de la lógica programable. El PS del Zynq tiene disponible de hasta 64 puertos GPIO.\n",
    "\n",
    "### Diseño del hardware\n",
    "\n",
    "El diseño del hardware se realiza con la herramienta Vivado. Esta herramienta ofrece una interfaz gráfica para la configuración del SoC. Una vez diseñado sistema, Vivado permite la generación de archivos para la configuración del SoC. El diseño y la generación de los archivos de configuración se realizará en tutoriales avanzados. En este tutorial usaremos archivos de configuración previamente diseñados que configura la conexión de los puertos GPIO del PS con los leds, botones e interruptores de la placa de desarrollo (Este tutorial también se puede ejecutar para la placa PYNQ-Z1).\n",
    "\n",
    "![PS GPIO Design](./images/ps_gpio_design.png \"PS GPIO Design\")"
   ]
  },
  {
   "cell_type": "markdown",
   "metadata": {},
   "source": [
    "La asignación de los puertos se realiza el proceso de configuración del SoC. La asignación de puertos GPIO es la siguiente: \n",
    "\n",
    "* GPIO 0 - 3: Botones\n",
    "* GPIO 4 - 5: Interruptores\n",
    "* GPIO 6 - 9: LEDs"
   ]
  },
  {
   "cell_type": "markdown",
   "metadata": {},
   "source": [
    "### Instrucciones\n",
    "\n",
    "#### 1. Importar el diseño de hardware \n",
    "\n",
    "Los archivos `ps_gpio.bit` y `ps_gpio.hwh` pueden encontrarse en el fichero bitstream, disponible en el directorio raíz de este tutorial. Es de hacer notar que estos archivos contienen la configuración del SoC. En este ejemplo, se obtenemos la configuración del hardware pasando la ruta del archivo bitstream `ps_gpio.bit` a la clase Overlay."
   ]
  },
  {
   "cell_type": "markdown",
   "metadata": {},
   "source": [
    "* En primer lugar, verifique que el archivo `ps_gpio.bit` está en el fichero bitstream"
   ]
  },
  {
   "cell_type": "code",
   "execution_count": 1,
   "metadata": {},
   "outputs": [
    {
     "name": "stdout",
     "output_type": "stream",
     "text": [
      "./bitstream/ps_gpio.bit  ./bitstream/ps_gpio.tcl\r\n",
      "./bitstream/ps_gpio.hwh  ./bitstream/ps_gpio.xdc\r\n"
     ]
    }
   ],
   "source": [
    "!dir ./bitstream/ps_gpio.*"
   ]
  },
  {
   "cell_type": "markdown",
   "metadata": {},
   "source": [
    "* Luego pase el archivo bitstream a la clase Overlay"
   ]
  },
  {
   "cell_type": "code",
   "execution_count": 2,
   "metadata": {},
   "outputs": [
    {
     "data": {
      "application/javascript": [
       "\n",
       "require(['notebook/js/codecell'], function(codecell) {\n",
       "  codecell.CodeCell.options_default.highlight_modes[\n",
       "      'magic_text/x-csrc'] = {'reg':[/^%%microblaze/]};\n",
       "  Jupyter.notebook.events.one('kernel_ready.Kernel', function(){\n",
       "      Jupyter.notebook.get_cells().map(function(cell){\n",
       "          if (cell.cell_type == 'code'){ cell.auto_highlight(); } }) ;\n",
       "  });\n",
       "});\n"
      ]
     },
     "metadata": {},
     "output_type": "display_data"
    }
   ],
   "source": [
    "from pynq import Overlay\n",
    "ps_gpio_design = Overlay(\"./bitstream/ps_gpio.bit\")"
   ]
  },
  {
   "cell_type": "markdown",
   "metadata": {},
   "source": [
    "### La clase GPIO\n",
    "\n",
    "La clase GPIO puede usarse para controlar los puertos GPIO del sistema de procesamiento. "
   ]
  },
  {
   "cell_type": "markdown",
   "metadata": {},
   "source": [
    "### 1. Asignación de los botones, interruptores y leds\n",
    "\n",
    "La declaración de los puertos se realiza ejecutando las siguiente líneas de código. "
   ]
  },
  {
   "cell_type": "code",
   "execution_count": 3,
   "metadata": {},
   "outputs": [],
   "source": [
    "from pynq import GPIO\n",
    "\n",
    "# PUERTOS DE ENTRADA\n",
    "# Botones\n",
    "button0 = GPIO(GPIO.get_gpio_pin(0), 'in')\n",
    "button1 = GPIO(GPIO.get_gpio_pin(1), 'in')\n",
    "button2 = GPIO(GPIO.get_gpio_pin(2), 'in')\n",
    "button3 = GPIO(GPIO.get_gpio_pin(3), 'in')\n",
    "\n",
    "# Interruptores\n",
    "switch0 = GPIO(GPIO.get_gpio_pin(4), 'in')\n",
    "switch1 = GPIO(GPIO.get_gpio_pin(5), 'in')\n",
    "\n",
    "# PUERTOS DE SALIDA\n",
    "# leds\n",
    "led0 = GPIO(GPIO.get_gpio_pin(6), 'out')\n",
    "led1 = GPIO(GPIO.get_gpio_pin(7), 'out')\n",
    "led2 = GPIO(GPIO.get_gpio_pin(8), 'out')\n",
    "led3 = GPIO(GPIO.get_gpio_pin(9), 'out')"
   ]
  },
  {
   "cell_type": "markdown",
   "metadata": {},
   "source": [
    "### 2. Lectura de los puertos de entrada\n",
    "\n",
    "En primer lugar, ejecute la siguiente celda de código:"
   ]
  },
  {
   "cell_type": "code",
   "execution_count": 5,
   "metadata": {},
   "outputs": [
    {
     "data": {
      "text/plain": [
       "1"
      ]
     },
     "execution_count": 5,
     "metadata": {},
     "output_type": "execute_result"
    }
   ],
   "source": [
    "button0.read()"
   ]
  },
  {
   "cell_type": "markdown",
   "metadata": {},
   "source": [
    "Ahora presione BTN0 mientras ejecuta la celda de código simultáneamente. "
   ]
  },
  {
   "cell_type": "code",
   "execution_count": null,
   "metadata": {},
   "outputs": [],
   "source": [
    "button0.read()"
   ]
  },
  {
   "cell_type": "markdown",
   "metadata": {},
   "source": [
    "Mueva un interruptor y presione al menos un botón mientras ejecuta simultáneamente la celda de código mostrada a continuación: "
   ]
  },
  {
   "cell_type": "code",
   "execution_count": 7,
   "metadata": {},
   "outputs": [
    {
     "name": "stdout",
     "output_type": "stream",
     "text": [
      "Button0: 0\n",
      "Button1: 1\n",
      "Button2: 0\n",
      "Button3: 1\n",
      "\n",
      "Switch0: 1\n",
      "Switch1: 0\n"
     ]
    }
   ],
   "source": [
    "print(f\"BTN0: {button0.read()}\")\n",
    "print(f\"BTN1: {button1.read()}\")\n",
    "print(f\"BTN2: {button2.read()}\")\n",
    "print(f\"BTN3: {button3.read()}\")\n",
    "\n",
    "print(\"\")\n",
    "print(f\"SW0: {switch0.read()}\")\n",
    "print(f\"SW1: {switch1.read()}\")"
   ]
  },
  {
   "cell_type": "markdown",
   "metadata": {},
   "source": [
    "### 3. Escritura de LEDs\n",
    "\n",
    "* Encienda LD0."
   ]
  },
  {
   "cell_type": "code",
   "execution_count": 9,
   "metadata": {},
   "outputs": [],
   "source": [
    "led0.write(1)"
   ]
  },
  {
   "cell_type": "markdown",
   "metadata": {},
   "source": [
    "* La siguiente celda de código enciende LD1, LD2 y LD3 con un segundo de diferencia. La biblioteca **sleep** permite controlar los tiempos de espera."
   ]
  },
  {
   "cell_type": "code",
   "execution_count": 11,
   "metadata": {},
   "outputs": [],
   "source": [
    "from time import sleep\n",
    "\n",
    "led1.write(1)\n",
    "sleep(1)\n",
    "led2.write(1)\n",
    "sleep(1)\n",
    "led3.write(1)"
   ]
  },
  {
   "cell_type": "markdown",
   "metadata": {},
   "source": [
    "* Apaga todos los LEDs"
   ]
  },
  {
   "cell_type": "code",
   "execution_count": 12,
   "metadata": {},
   "outputs": [],
   "source": [
    "led0.write(0)\n",
    "led1.write(0)\n",
    "led2.write(0)\n",
    "led3.write(0)"
   ]
  },
  {
   "cell_type": "markdown",
   "metadata": {},
   "source": [
    "### 4. Lectura y escritura de puertos\n",
    "\n",
    "Run a loop to set the LEDs to the value of the pushbuttons. \n",
    "\n",
    "Before executing the next cell, make sure Switch 0 (SW0) is \"on\". While the loop is running, press a push-button and notice the corresponding LED turns on. To exit the loop, change Switch 0 to off. "
   ]
  },
  {
   "cell_type": "code",
   "execution_count": 13,
   "metadata": {},
   "outputs": [],
   "source": [
    "while(switch0.read() is 1):\n",
    "    led0.write(button0.read())\n",
    "    led1.write(button1.read())\n",
    "    led2.write(button2.read())\n",
    "    led3.write(button3.read())    "
   ]
  }
 ],
 "metadata": {
  "kernelspec": {
   "display_name": "Python 3",
   "language": "python",
   "name": "python3"
  },
  "language_info": {
   "codemirror_mode": {
    "name": "ipython",
    "version": 3
   },
   "file_extension": ".py",
   "mimetype": "text/x-python",
   "name": "python",
   "nbconvert_exporter": "python",
   "pygments_lexer": "ipython3",
   "version": "3.8.5"
  }
 },
 "nbformat": 4,
 "nbformat_minor": 2
}
