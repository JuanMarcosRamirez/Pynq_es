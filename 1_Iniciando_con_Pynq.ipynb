{
 "cells": [
  {
   "cell_type": "markdown",
   "metadata": {},
   "source": [
    "# Iniciando con el entorno de productividad Python para Zynq"
   ]
  },
  {
   "cell_type": "markdown",
   "metadata": {},
   "source": [
    "## Contenido\n"
   ]
  },
  {
   "cell_type": "markdown",
   "metadata": {},
   "source": [
    "* [Objetivos](#Objetivos)\n",
    "\n",
    "\n",
    "* [Entorno de productividad Python para sistemas Zynq](#Entorno-de-productividad-Python-para-sistemas-Zynq)\n",
    "\n",
    "\n",
    "* [Extracción de la información de Hardware y Software](#Extracción-de-la-información-de-Hardware-y-Software)\n",
    "\n",
    "----\n",
    "\n",
    "## Objetivos"
   ]
  },
  {
   "cell_type": "markdown",
   "metadata": {},
   "source": [
    "El objetivo de este apunte es explorar las características generales del entorno de productividad Python para Zynq.\n",
    "\n",
    "* Entorno de productividad Python para Zynq\n",
    "\n",
    "\n",
    "* Extracción de la información de hardware y software"
   ]
  },
  {
   "cell_type": "markdown",
   "metadata": {},
   "source": [
    "---\n",
    "\n",
    "## Entorno de productividad Python para sistemas Zynq\n",
    "\n",
    "El entorno de productividad Python para sistemas Zynq (Pynq, *Python productivity for Zynq*) es un marco de diseño y materialización de sistemas empotrados basados en sistemas Zynq desarrollado para programadores con poca experiencia en el área de diseño de sistemas digitales. Este entorno de productividad permite programar el comportamiento de un sistema Zynq que controla una kit de desarrollo de sistemas empotrados con distintas interfaces de comunicación. El kit de desarrollo opera con un sistema operativo Linux basado en Ubuntu y los diseños son codificados en Python usando Jupyter Notebooks.\n",
    "\n",
    "### Sistemas Zynq\n",
    "\n",
    "Los circuitos integrados Zynq son sistemas en chip (SOC, *system on a chip*) que consta de un bloque de procesamiento (PS, *processing system*) basado en uno o múltiples microprocesadores ARM y un bloque de lógica programable (PL, *programmable logic*) que básicamente consiste en un FPGA integrado a los microprocesadores del sistema.\n",
    "\n",
    "### Linux basado en Ubuntu\n",
    "\n",
    "El sistema operativo Linux basado en Ubuntu arranca desde una image pre-construida en una memoria micro SD. Este sistema operativo fue seleccionado para incrementar la productividad de los desarrolladores debido a que es un sistema operativo ampliamente usado, y además, existen un número importante de bibliotecas y controladores desarrollados en Ubuntu.\n",
    "\n",
    "### Jupyter Notebooks (cuadernos o apuntes Jupyter)\n",
    "\n",
    "Los diseños en el entorno Pynq son codificados y documentados usando Jypyter Notebook que es una aplicación web que permite combinar texto, gráficos, ecuaciones y código interactivo en una única iterfaz gráfica. Los cuadernos Jupyter han sido usados recientemente en diversas aplicaciones tales como el modelado estadístico, la solución de problemas de optimización y la implementación de máquinas de aprendizaje. Debido a lo extendido de esta aplicación web, dejamos al lector el estudio de los detalles de programación de Jupyter Notebook.  \n",
    "\n",
    "---\n",
    "\n",
    "## Extracción de la información de Hardware y Software\n",
    "\n",
    "\n",
    "### Hardware del sistema Zynq\n",
    "\n",
    "El entorno Pynq usa IPython para acceder a la información del hardware de la placa en evaluación. La cónsola IPython (*Interactive Python*) es una herramienta que permite ejecutar comandos de cónsola del sistema operativo en una celda de código de un cuaderno Jupyter. En una celda de código, un comando del sistema operativo se inicia con el signo '!' que es redirecionado a la cónsola del sistema operativo para su ejecución. Veamos unos ejemplos prácticos en IPython para extraer la información del hardware de la placa. \n",
    "\n",
    "#### Microprocesadores ARM del sistema Zynq"
   ]
  },
  {
   "cell_type": "code",
   "execution_count": 1,
   "metadata": {},
   "outputs": [
    {
     "name": "stdout",
     "output_type": "stream",
     "text": [
      "processor\t: 0\r\n",
      "model name\t: ARMv7 Processor rev 0 (v7l)\r\n",
      "BogoMIPS\t: 650.00\r\n",
      "Features\t: half thumb fastmult vfp edsp neon vfpv3 tls vfpd32 \r\n",
      "CPU implementer\t: 0x41\r\n",
      "CPU architecture: 7\r\n",
      "CPU variant\t: 0x3\r\n",
      "CPU part\t: 0xc09\r\n",
      "CPU revision\t: 0\r\n",
      "\r\n",
      "processor\t: 1\r\n",
      "model name\t: ARMv7 Processor rev 0 (v7l)\r\n",
      "BogoMIPS\t: 650.00\r\n",
      "Features\t: half thumb fastmult vfp edsp neon vfpv3 tls vfpd32 \r\n",
      "CPU implementer\t: 0x41\r\n",
      "CPU architecture: 7\r\n",
      "CPU variant\t: 0x3\r\n",
      "CPU part\t: 0xc09\r\n",
      "CPU revision\t: 0\r\n",
      "\r\n",
      "Hardware\t: Xilinx Zynq Platform\r\n",
      "Revision\t: 0003\r\n",
      "Serial\t\t: 0000000000000000\r\n"
     ]
    }
   ],
   "source": [
    "!cat /proc/cpuinfo"
   ]
  },
  {
   "cell_type": "markdown",
   "metadata": {},
   "source": [
    "#### Memoria DRAM disponible"
   ]
  },
  {
   "cell_type": "code",
   "execution_count": 2,
   "metadata": {},
   "outputs": [
    {
     "name": "stdout",
     "output_type": "stream",
     "text": [
      "MemTotal:         509584 kB\r\n",
      "MemFree:          140336 kB\r\n",
      "MemAvailable:     314472 kB\r\n"
     ]
    }
   ],
   "source": [
    "!cat /proc/meminfo | grep 'Mem*'"
   ]
  },
  {
   "cell_type": "markdown",
   "metadata": {},
   "source": [
    "#### Configuración de la red"
   ]
  },
  {
   "cell_type": "code",
   "execution_count": 3,
   "metadata": {},
   "outputs": [
    {
     "name": "stdout",
     "output_type": "stream",
     "text": [
      "eth0: flags=4163<UP,BROADCAST,RUNNING,MULTICAST>  mtu 1500\r\n",
      "        inet 192.168.1.12  netmask 255.255.255.0  broadcast 192.168.1.255\r\n",
      "        inet6 fe80::205:6bff:fe00:c913  prefixlen 64  scopeid 0x20<link>\r\n",
      "        ether 00:05:6b:00:c9:13  txqueuelen 1000  (Ethernet)\r\n",
      "        RX packets 5027  bytes 1032134 (1.0 MB)\r\n",
      "        RX errors 0  dropped 0  overruns 0  frame 0\r\n",
      "        TX packets 3268  bytes 2501853 (2.5 MB)\r\n",
      "        TX errors 0  dropped 0 overruns 0  carrier 0  collisions 0\r\n",
      "        device interrupt 29  base 0xb000  \r\n",
      "\r\n"
     ]
    }
   ],
   "source": [
    "!ifconfig eth0"
   ]
  },
  {
   "cell_type": "markdown",
   "metadata": {},
   "source": [
    "#### Hostname"
   ]
  },
  {
   "cell_type": "code",
   "execution_count": 4,
   "metadata": {},
   "outputs": [
    {
     "name": "stdout",
     "output_type": "stream",
     "text": [
      "pynq\r\n"
     ]
    }
   ],
   "source": [
    "!hostname"
   ]
  },
  {
   "cell_type": "markdown",
   "metadata": {},
   "source": [
    "### Sistema operativo\n",
    "\n",
    "#### Verificación de la versión de Linux"
   ]
  },
  {
   "cell_type": "code",
   "execution_count": 5,
   "metadata": {},
   "outputs": [
    {
     "name": "stdout",
     "output_type": "stream",
     "text": [
      "VERSION=\"2.3 (Trinity)\"\r\n",
      "VERSION_ID=\"2.3\"\r\n",
      "VERSION_CODENAME=trinity\r\n"
     ]
    }
   ],
   "source": [
    "!cat /etc/os-release | grep VERSION"
   ]
  },
  {
   "cell_type": "markdown",
   "metadata": {},
   "source": [
    "### Python\n",
    "\n",
    "La información del lenguaje de programación instalado la podemos obtener directamente usando instrucciones escritas en Python. "
   ]
  },
  {
   "cell_type": "code",
   "execution_count": 6,
   "metadata": {},
   "outputs": [
    {
     "name": "stdout",
     "output_type": "stream",
     "text": [
      "\n",
      "Python Version:\n",
      " 3.6.5 (default, Apr  1 2018, 05:46:30) \n",
      "[GCC 7.3.0] \n",
      "\n",
      "Python Platform:\n",
      "linux\n",
      "\n"
     ]
    }
   ],
   "source": [
    "import sys\n",
    "\n",
    "# Imprime la versión de Python instalada y la plataforma de operación\n",
    "print('\\nPython Version:\\n {} \\n\\nPython Platform:\\n{}\\n'.format(sys.version, sys.platform))"
   ]
  },
  {
   "cell_type": "code",
   "execution_count": 7,
   "metadata": {},
   "outputs": [
    {
     "name": "stdout",
     "output_type": "stream",
     "text": [
      "Python path settings:\n",
      "\n",
      "/usr/lib/python36.zip\n",
      "/usr/lib/python3.6\n",
      "/usr/lib/python3.6/lib-dynload\n",
      "/usr/local/lib/python3.6/dist-packages\n",
      "/usr/lib/python3/dist-packages\n",
      "/usr/lib/python3/dist-packages/IPython/extensions\n",
      "/root/.ipython\n"
     ]
    }
   ],
   "source": [
    "# Imprime la ruta de instalación de Python\n",
    "print ('Python path settings:')\n",
    "for path_entry in sys.path:\n",
    "    print(path_entry)"
   ]
  },
  {
   "cell_type": "code",
   "execution_count": 8,
   "metadata": {},
   "outputs": [
    {
     "name": "stdout",
     "output_type": "stream",
     "text": [
      "/bin/sh: 1: pip3.6: not found\r\n"
     ]
    }
   ],
   "source": [
    "# Código Ipython para verificar las bibliotecas de Python instaladas\n",
    "!pip3.6 list --format=columns"
   ]
  }
 ],
 "metadata": {
  "kernelspec": {
   "display_name": "Python 3",
   "language": "python",
   "name": "python3"
  },
  "language_info": {
   "codemirror_mode": {
    "name": "ipython",
    "version": 3
   },
   "file_extension": ".py",
   "mimetype": "text/x-python",
   "name": "python",
   "nbconvert_exporter": "python",
   "pygments_lexer": "ipython3",
   "version": "3.6.5"
  }
 },
 "nbformat": 4,
 "nbformat_minor": 1
}
